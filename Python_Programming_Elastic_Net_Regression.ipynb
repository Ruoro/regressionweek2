{
  "nbformat": 4,
  "nbformat_minor": 0,
  "metadata": {
    "colab": {
      "name": "Python Programming: Elastic Net Regression ",
      "provenance": [],
      "collapsed_sections": [
        "scuAwXisqKmw",
        "oSFgsKKXqIiB",
        "eg6xL93DqlFp",
        "OfwuxrUVqpTN",
        "FIDC997cqqjr",
        "UWfQDCKZOrYe",
        "b6lsTHPfPQHR"
      ],
      "toc_visible": true
    },
    "kernelspec": {
      "name": "python3",
      "display_name": "Python 3"
    }
  },
  "cells": [
    {
      "cell_type": "markdown",
      "metadata": {
        "id": "BpmQjuappoy8"
      },
      "source": [
        "<font color=\"green\">*To start working on this notebook, or any other notebook that we will use in the Moringa Data Science Course, we will need to save our own copy of it. We can do this by clicking File > Save a Copy in Drive. We will then be able to make edits to our own copy of this notebook.*</font>"
      ]
    },
    {
      "cell_type": "markdown",
      "metadata": {
        "id": "HNe8t7dVpbpu"
      },
      "source": [
        "# Python Programming: Elastic Net Regression "
      ]
    },
    {
      "cell_type": "markdown",
      "metadata": {
        "id": "scuAwXisqKmw"
      },
      "source": [
        "## Example"
      ]
    },
    {
      "cell_type": "code",
      "metadata": {
        "id": "Ny4eVDS-pRjg",
        "colab": {
          "base_uri": "https://localhost:8080/"
        },
        "outputId": "d4c8862e-f50f-4e98-e62c-14b92f945acd"
      },
      "source": [
        "# Example 1\n",
        "# ---\n",
        "# Use the fair dataset from the pydataset library to predict marriage satisfaction based on the given variables.\n",
        "# ---\n",
        "# \n",
        "!pip install pydataset"
      ],
      "execution_count": 1,
      "outputs": [
        {
          "output_type": "stream",
          "text": [
            "Collecting pydataset\n",
            "  Downloading pydataset-0.2.0.tar.gz (15.9 MB)\n",
            "\u001b[K     |████████████████████████████████| 15.9 MB 1.4 MB/s \n",
            "\u001b[?25hRequirement already satisfied: pandas in /usr/local/lib/python3.7/dist-packages (from pydataset) (1.1.5)\n",
            "Requirement already satisfied: python-dateutil>=2.7.3 in /usr/local/lib/python3.7/dist-packages (from pandas->pydataset) (2.8.1)\n",
            "Requirement already satisfied: pytz>=2017.2 in /usr/local/lib/python3.7/dist-packages (from pandas->pydataset) (2018.9)\n",
            "Requirement already satisfied: numpy>=1.15.4 in /usr/local/lib/python3.7/dist-packages (from pandas->pydataset) (1.19.5)\n",
            "Requirement already satisfied: six>=1.5 in /usr/local/lib/python3.7/dist-packages (from python-dateutil>=2.7.3->pandas->pydataset) (1.15.0)\n",
            "Building wheels for collected packages: pydataset\n",
            "  Building wheel for pydataset (setup.py) ... \u001b[?25l\u001b[?25hdone\n",
            "  Created wheel for pydataset: filename=pydataset-0.2.0-py3-none-any.whl size=15939431 sha256=543152772d33db150e847c4a3a854449ac5b321f874d1af656088f4df65b1fe6\n",
            "  Stored in directory: /root/.cache/pip/wheels/32/26/30/d71562a19eed948eaada9a61b4d722fa358657a3bfb5d151e2\n",
            "Successfully built pydataset\n",
            "Installing collected packages: pydataset\n",
            "Successfully installed pydataset-0.2.0\n"
          ],
          "name": "stdout"
        }
      ]
    },
    {
      "cell_type": "code",
      "metadata": {
        "id": "_5Ce8nt6rLpz",
        "colab": {
          "base_uri": "https://localhost:8080/"
        },
        "outputId": "0b69c46e-c18d-4489-9611-e80511090517"
      },
      "source": [
        "# Importing our libraries\n",
        "# \n",
        "from pydataset import data\n",
        "import numpy as np\n",
        "import pandas as pd\n",
        "pd.set_option('display.max_rows', 5000)\n",
        "pd.set_option('display.max_columns', 5000)\n",
        "pd.set_option('display.width', 10000)\n",
        "\n",
        "from sklearn.model_selection import GridSearchCV\n",
        "from sklearn.linear_model import ElasticNet\n",
        "from sklearn.linear_model import LinearRegression\n",
        "from sklearn.metrics import mean_squared_error"
      ],
      "execution_count": 2,
      "outputs": [
        {
          "output_type": "stream",
          "text": [
            "initiated datasets repo at: /root/.pydataset/\n"
          ],
          "name": "stdout"
        }
      ]
    },
    {
      "cell_type": "code",
      "metadata": {
        "id": "DSdAir83rPwt"
      },
      "source": [
        "# Data preparation\n",
        "# \n",
        "df=pd.DataFrame(data('Fair'))\n",
        "df.loc[df.sex== 'male', 'sex'] = 0\n",
        "df.loc[df.sex== 'female','sex'] = 1\n",
        "df['sex'] = df['sex'].astype(int)\n",
        "df.loc[df.child== 'no', 'child'] = 0\n",
        "df.loc[df.child== 'yes','child'] = 1\n",
        "df['child'] = df['child'].astype(int)\n",
        "X=df[['religious','age','sex','ym','education','occupation','nbaffairs']]\n",
        "y=df['rate']"
      ],
      "execution_count": 3,
      "outputs": []
    },
    {
      "cell_type": "code",
      "metadata": {
        "id": "YRhDWYgprhNy",
        "colab": {
          "base_uri": "https://localhost:8080/"
        },
        "outputId": "6afc9cd0-f6ba-4096-b92a-3eaeaf2e68c2"
      },
      "source": [
        "# Creating our linear regression model for the purpose of comparison\n",
        "# \n",
        "regression=LinearRegression()\n",
        "regression.fit(X,y)\n",
        "first_model=(mean_squared_error(y_true=y,y_pred=regression.predict(X)))\n",
        "print(first_model) \n",
        "\n",
        "# This mean standard error score of 1.05 is our benchmark for determining \n",
        "# if the elastic net model will be better or worst. "
      ],
      "execution_count": 4,
      "outputs": [
        {
          "output_type": "stream",
          "text": [
            "1.049873864469667\n"
          ],
          "name": "stdout"
        }
      ]
    },
    {
      "cell_type": "code",
      "metadata": {
        "id": "Itfl2nFNrnXD",
        "colab": {
          "base_uri": "https://localhost:8080/"
        },
        "outputId": "3269fd26-0e58-489d-c60a-d4b670e6e0f5"
      },
      "source": [
        "# Below are the coefficients of this first model. We use a for loop to go through \n",
        "# the model and the zip function to combine the two columns.\n",
        "# \n",
        "coef_dict_baseline = {}\n",
        "for coef, feat in zip(regression.coef_,X.columns):\n",
        "    coef_dict_baseline[feat] = coef\n",
        "coef_dict_baseline"
      ],
      "execution_count": 5,
      "outputs": [
        {
          "output_type": "execute_result",
          "data": {
            "text/plain": [
              "{'age': -0.00905964542867384,\n",
              " 'education': 0.06810255742293703,\n",
              " 'nbaffairs': -0.07882571247653965,\n",
              " 'occupation': -0.00597950685299818,\n",
              " 'religious': 0.04235281110639179,\n",
              " 'sex': 0.0888201333708709,\n",
              " 'ym': -0.030458802565476555}"
            ]
          },
          "metadata": {
            "tags": []
          },
          "execution_count": 5
        }
      ]
    },
    {
      "cell_type": "code",
      "metadata": {
        "id": "slBa3TuPsQ5A"
      },
      "source": [
        "# Elastic Net Model\n",
        "# Elastic net, just like ridge and lasso regression, requires normalize data. \n",
        "# This argument  is set inside the ElasticNet function. \n",
        "# The second thing we need to do is create our grid.\n",
        "# \n",
        "elastic=ElasticNet(normalize=True)\n",
        "search=GridSearchCV(estimator=elastic,param_grid={'alpha':np.logspace(-5,2,8),'l1_ratio':[.2,.4,.6,.8]},scoring='neg_mean_squared_error',n_jobs=1,refit=True,cv=10)"
      ],
      "execution_count": 7,
      "outputs": []
    },
    {
      "cell_type": "code",
      "metadata": {
        "id": "wKMvWkn7sxao",
        "colab": {
          "base_uri": "https://localhost:8080/"
        },
        "outputId": "c9ec9201-8c78-49a0-f9ff-d1b8c67bed80"
      },
      "source": [
        "# We will now fit our model and display the best parameters and the best results we can get with that setup.\n",
        "# \n",
        "search.fit(X,y)\n",
        "search.best_params_\n",
        "abs(search.best_score_)"
      ],
      "execution_count": 10,
      "outputs": [
        {
          "output_type": "execute_result",
          "data": {
            "text/plain": [
              "1.0819158709244472"
            ]
          },
          "metadata": {
            "tags": []
          },
          "execution_count": 10
        }
      ]
    },
    {
      "cell_type": "code",
      "metadata": {
        "id": "fT4WbUDSs9xu",
        "colab": {
          "base_uri": "https://localhost:8080/"
        },
        "outputId": "2716373e-c335-4653-dfd5-9d0e2103fa6f"
      },
      "source": [
        "# The best hyperparameters was an alpha set to 0.001 and a l1_ratio of 0.8. \n",
        "# With these settings we got an MSE of 1.08. This is above our baseline model of MSE 1.05  for the baseline model. \n",
        "# Which means that elastic net is doing worse than linear regression. \n",
        "# For clarity, we will set our hyperparameters to the recommended values and run on the data.\n",
        "# \n",
        "elastic=ElasticNet(normalize=True,alpha=0.001,l1_ratio=0.75)\n",
        "elastic.fit(X,y)\n",
        "second_model=(mean_squared_error(y_true=y,y_pred=elastic.predict(X)))\n",
        "print(second_model)"
      ],
      "execution_count": 12,
      "outputs": [
        {
          "output_type": "stream",
          "text": [
            "1.0566430678343806\n"
          ],
          "name": "stdout"
        }
      ]
    },
    {
      "cell_type": "code",
      "metadata": {
        "id": "gpzR2KETtPDY",
        "colab": {
          "base_uri": "https://localhost:8080/"
        },
        "outputId": "cf18ebc3-24e2-4a76-a355-7f35751f3cd2"
      },
      "source": [
        "# Below are the coefficients\n",
        "# \n",
        "coef_dict_baseline = {}\n",
        "for coef, feat in zip(elastic.coef_,X.columns):\n",
        "    coef_dict_baseline[feat] = coef\n",
        "coef_dict_baseline\n",
        "\n",
        "# The coefficients are mostly the same. \n",
        "# Notice that occupation was completely removed from the model in the elastic net version. \n",
        "# This means that this values was no good to the algorithm. Traditional regression cannot do this."
      ],
      "execution_count": 13,
      "outputs": [
        {
          "output_type": "execute_result",
          "data": {
            "text/plain": [
              "{'age': -0.008630896492807693,\n",
              " 'education': 0.04429085595448633,\n",
              " 'nbaffairs': -0.06679513627963515,\n",
              " 'occupation': -0.0,\n",
              " 'religious': 0.019475417249578564,\n",
              " 'sex': 0.01811646456809079,\n",
              " 'ym': -0.02422483127451297}"
            ]
          },
          "metadata": {
            "tags": []
          },
          "execution_count": 13
        }
      ]
    },
    {
      "cell_type": "markdown",
      "metadata": {
        "id": "oSFgsKKXqIiB"
      },
      "source": [
        "## Challenges"
      ]
    },
    {
      "cell_type": "markdown",
      "metadata": {
        "id": "eg6xL93DqlFp"
      },
      "source": [
        "### <font color=\"green\">Challenge 1</font>"
      ]
    },
    {
      "cell_type": "code",
      "metadata": {
        "id": "tggiLGHzqcaJ",
        "colab": {
          "base_uri": "https://localhost:8080/"
        },
        "outputId": "6bd5bd8a-e6a9-4721-e095-54411c814713"
      },
      "source": [
        "# Challenge 1\n",
        "# ---\n",
        "# Question: Using the given housiet, create a regression model to predict \n",
        "# the value of prices of a house using the given features. \n",
        "# ---\n",
        "# Dataset \n",
        "url = 'http://bit.ly/BostonHousingDataset'\n",
        "# ---\n",
        "# \n",
        "bdf = pd.read_csv(url)\n",
        "bdf.head()\n",
        "# define X and Y \\\n",
        "X = bdf.drop ('tax', 1)\n",
        "y = bdf['tax']\n",
        "\n",
        "lr = LinearRegression()\n",
        "lr.fit(X, y)\n",
        "first_model=(mean_squared_error(y_true=y,y_pred=lr.predict(X)))\n",
        "print(first_model) \n",
        "\n"
      ],
      "execution_count": 23,
      "outputs": [
        {
          "output_type": "stream",
          "text": [
            "3079.517025404413\n"
          ],
          "name": "stdout"
        }
      ]
    },
    {
      "cell_type": "code",
      "metadata": {
        "id": "x8RR1pOSgrPJ",
        "outputId": "03930a0b-bb4b-4ffa-fe3c-218ed418bb92",
        "colab": {
          "base_uri": "https://localhost:8080/"
        }
      },
      "source": [
        "# Below are the coefficients of this first model. We use a for loop to go through \n",
        "# the model and the zip function to combine the two columns.\n",
        "# \n",
        "coef_dict_baseline = {}\n",
        "for coef, feat in zip(lr.coef_,X.columns):\n",
        "    coef_dict_baseline[feat] = coef\n",
        "coef_dict_baseline"
      ],
      "execution_count": 24,
      "outputs": [
        {
          "output_type": "execute_result",
          "data": {
            "text/plain": [
              "{'age': 0.10415212922794237,\n",
              " 'b': -0.002470321410012577,\n",
              " 'chas': -22.51192296750458,\n",
              " 'crim': -0.28873412133877585,\n",
              " 'dis': -1.5494749241255885,\n",
              " 'indus': 7.044131663777457,\n",
              " 'lstat': -1.1126056086738825,\n",
              " 'medv': -1.7348657156688934,\n",
              " 'nox': 43.32664401203344,\n",
              " 'ptratio': 0.9161807522921855,\n",
              " 'rad': 14.135332861439798,\n",
              " 'rm': -1.4689828318668419,\n",
              " 'zn': 0.8778597945656135}"
            ]
          },
          "metadata": {
            "tags": []
          },
          "execution_count": 24
        }
      ]
    },
    {
      "cell_type": "code",
      "metadata": {
        "id": "Qr-65NDEg7RC"
      },
      "source": [
        "# initialize elastic net and grid sEArch cv\n",
        "elastic=ElasticNet(normalize=True)\n",
        "search=GridSearchCV(estimator=elastic,param_grid={'alpha':np.logspace(-5,2,8),'l1_ratio':[.2,.4,.6,.8]},scoring='neg_mean_squared_error',n_jobs=1,refit=True,cv=10)"
      ],
      "execution_count": 25,
      "outputs": []
    },
    {
      "cell_type": "code",
      "metadata": {
        "id": "nRE7AgWthFaA",
        "outputId": "2d5d4ff2-8031-484c-8093-ede43c8ec501",
        "colab": {
          "base_uri": "https://localhost:8080/"
        }
      },
      "source": [
        "# We will now fit our model and display the best parameters and the best results we can get with that setup.\n",
        "# \n",
        "search.fit(X,y)\n",
        "search.best_params_\n",
        "abs(search.best_score_)\n"
      ],
      "execution_count": 29,
      "outputs": [
        {
          "output_type": "execute_result",
          "data": {
            "text/plain": [
              "4533.698051735112"
            ]
          },
          "metadata": {
            "tags": []
          },
          "execution_count": 29
        }
      ]
    },
    {
      "cell_type": "code",
      "metadata": {
        "id": "w8Ipo5nAhFL7",
        "outputId": "efade5b3-1535-4cc8-d803-332982d6b8f8",
        "colab": {
          "base_uri": "https://localhost:8080/"
        }
      },
      "source": [
        "# The best hyperparameters was an alpha set to'alpha': 1e-05, 'l1_ratio': 0.8 \n",
        "# With these settings we got an MSE of 4533.70 This is above our baseline model of MSE 3079  for the baseline model. \n",
        "# Which means that elastic net is doing worse than linear regression. \n",
        "# For clarity, we will set our hyperparameters to the recommended values and run on the data.\n",
        "# \n",
        "elastic=ElasticNet(normalize=True,alpha=1e-05,l1_ratio=0.8)\n",
        "elastic.fit(X,y)\n",
        "second_model=(mean_squared_error(y_true=y,y_pred=elastic.predict(X)))\n",
        "print(second_model)"
      ],
      "execution_count": 30,
      "outputs": [
        {
          "output_type": "stream",
          "text": [
            "3079.566872496664\n"
          ],
          "name": "stdout"
        }
      ]
    },
    {
      "cell_type": "code",
      "metadata": {
        "id": "plBTJ7WJh8l2",
        "outputId": "73c826fc-efa3-46fc-cfdc-3df3e08d0530",
        "colab": {
          "base_uri": "https://localhost:8080/"
        }
      },
      "source": [
        "# Below are the coefficients\n",
        "# \n",
        "coef_dict_baseline = {}\n",
        "for coef, feat in zip(elastic.coef_,X.columns):\n",
        "    coef_dict_baseline[feat] = coef\n",
        "coef_dict_baseline\n",
        "\n",
        "# The coefficients are mostly the same. \n",
        "# Notice that occupation was completely removed from the model in the elastic net version. \n",
        "# This means that this values was no good to the algorithm. Traditional regression cannot do this.\n"
      ],
      "execution_count": 31,
      "outputs": [
        {
          "output_type": "execute_result",
          "data": {
            "text/plain": [
              "{'age': 0.10256198524728598,\n",
              " 'b': -0.0030256773939518963,\n",
              " 'chas': -22.488586803632472,\n",
              " 'crim': -0.27357648121241107,\n",
              " 'dis': -1.533331707230361,\n",
              " 'indus': 7.029869518304757,\n",
              " 'lstat': -1.097357566228503,\n",
              " 'medv': -1.721133985535651,\n",
              " 'nox': 45.158791465804136,\n",
              " 'ptratio': 0.9820422251861676,\n",
              " 'rad': 14.096134529791406,\n",
              " 'rm': -1.4524484629677312,\n",
              " 'zn': 0.876530005651836}"
            ]
          },
          "metadata": {
            "tags": []
          },
          "execution_count": 31
        }
      ]
    },
    {
      "cell_type": "markdown",
      "metadata": {
        "id": "OfwuxrUVqpTN"
      },
      "source": [
        "### <font color=\"green\">Challenge 2</font>"
      ]
    },
    {
      "cell_type": "code",
      "metadata": {
        "id": "4C_RP2J-qe8P"
      },
      "source": [
        "# Challenge 2\n",
        "# ---\n",
        "# Question: Using the Ames Housing dataset, create a regression model to predict the sales price of home \n",
        "# applying elastic net regression.\n",
        "# ---\n",
        "# Dataset Source = http://bit.ly/HousePricesDataset\n",
        "# \n",
        "OUR CODE GOES HERE"
      ],
      "execution_count": null,
      "outputs": []
    },
    {
      "cell_type": "markdown",
      "metadata": {
        "id": "FIDC997cqqjr"
      },
      "source": [
        "### <font color=\"green\">Challenge 3</font>"
      ]
    },
    {
      "cell_type": "code",
      "metadata": {
        "id": "GAhV5q8sqgPO"
      },
      "source": [
        "# Challenge 3\n",
        "# ---\n",
        "# Question: Given the medical cost personal dataset, accurately predict insurance cost using a regression model.\n",
        "# ---\n",
        "# Dataset Source = http://bit.ly/https://bit.ly/insurance-_dataset\n",
        "# \n",
        "OUR CODE GOES HERE"
      ],
      "execution_count": null,
      "outputs": []
    },
    {
      "cell_type": "markdown",
      "metadata": {
        "id": "UWfQDCKZOrYe"
      },
      "source": [
        "### <font color=\"green\">Challenge 4</font>"
      ]
    },
    {
      "cell_type": "code",
      "metadata": {
        "id": "X-2u85NiOwlX"
      },
      "source": [
        "# Challenge 4\n",
        "# ---\n",
        "# Question: Use ElasticNet regression to build a model that is able to accurately predict the profits of a startup.\n",
        "# ---\n",
        "# Dataset Source = http://bit.ly/StartupsDataset\n",
        "# ---\n",
        "# \n",
        "OUR CODE STARTS HERE"
      ],
      "execution_count": null,
      "outputs": []
    },
    {
      "cell_type": "markdown",
      "metadata": {
        "id": "b6lsTHPfPQHR"
      },
      "source": [
        "### <font color=\"green\">Challenge 5</font>"
      ]
    },
    {
      "cell_type": "code",
      "metadata": {
        "id": "go19Edy7PXx7"
      },
      "source": [
        "# Challenge 5\n",
        "# ---\n",
        "# Question: Build a prediction model to predict duration for any combination of country,operator, \n",
        "# services and category given the genre,language and number of units. \n",
        "# Apply ElasticNet regression while building your model. \n",
        "# ---\n",
        "# Dataset Source = https://bit.ly/Audio_content_consumption\n",
        "# ---\n",
        "# \n",
        "OUR CODE STARTS HERE"
      ],
      "execution_count": null,
      "outputs": []
    }
  ]
}